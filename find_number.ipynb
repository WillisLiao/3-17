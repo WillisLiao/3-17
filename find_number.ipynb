{
 "cells": [
  {
   "cell_type": "code",
   "execution_count": 20,
   "metadata": {},
   "outputs": [
    {
     "name": "stdout",
     "output_type": "stream",
     "text": [
      "0800-000-000 \n",
      " (02)27839992 \n",
      " (02)2783-9993 \n",
      " +886-2-2837-4699\n"
     ]
    }
   ],
   "source": [
    "import re\n",
    "txt = '某天，張三拿著手機撥打 0800-000-000 的電話詢問網購的問題，但是接聽方說現在服務電話改成 (02)27839992及(02)2783-9993 了，請他重新撥號。經過一番討論後，服務中心說要先查詢一下相關資料再回電，結果服務中心回撥電話時張三看到來電是 +886-2-2837-4699 的號碼，於是張三先不接，但是去問了 168防詐中心確認該號碼是否為詐騙警示號碼。'\n",
    "pattern1 = '\\\\d\\\\d\\\\d\\\\d-\\\\d\\\\d\\\\d-\\\\d\\\\d\\\\d'\n",
    "pattern2 = '\\\\W\\\\d\\\\d\\\\W\\\\d\\\\d\\\\d\\\\d\\\\d\\\\d\\\\d\\\\d'\n",
    "pattern3 = '\\\\W\\\\d\\\\d\\\\W\\\\d\\\\d\\\\d\\\\d-\\\\d\\\\d\\\\d\\\\d'\n",
    "pattern4 = '\\\\W\\\\d\\\\d\\\\d-\\\\d-\\\\d\\\\d\\\\d\\\\d-\\\\d\\\\d\\\\d\\\\d'\n",
    "match1 = re.search(pattern1 , txt)\n",
    "match2 = re.search(pattern2 , txt)\n",
    "match3 = re.search(pattern3 , txt)\n",
    "match4 = re.search(pattern4 , txt)\n",
    "print(match1.group(),'\\n',match2.group(),'\\n', \n",
    "      match3.group(),'\\n', match4.group())\n"
   ]
  },
  {
   "cell_type": "code",
   "execution_count": 21,
   "metadata": {},
   "outputs": [
    {
     "name": "stdout",
     "output_type": "stream",
     "text": [
      "No data\n"
     ]
    }
   ],
   "source": [
    "phonePattern = r'\\d\\d\\d\\d-\\d\\d\\d\\d\\d\\d'\n",
    "phoneFormatRule = re.compile(phonePattern)\n",
    "phoneNum = phoneFormatRule.search(txt)\n",
    "if phoneNum != None:\n",
    "    print(phoneNum.group())\n",
    "else:\n",
    "    print('No data')"
   ]
  }
 ],
 "metadata": {
  "interpreter": {
   "hash": "7b4b4feff2f24a0f0a34464dbe537a36fda679851528fb8735cb41fa49dffb2d"
  },
  "kernelspec": {
   "display_name": "Python 3.9.7",
   "language": "python",
   "name": "python3"
  },
  "language_info": {
   "codemirror_mode": {
    "name": "ipython",
    "version": 3
   },
   "file_extension": ".py",
   "mimetype": "text/x-python",
   "name": "python",
   "nbconvert_exporter": "python",
   "pygments_lexer": "ipython3",
   "version": "3.9.7"
  },
  "orig_nbformat": 4
 },
 "nbformat": 4,
 "nbformat_minor": 2
}
