{
 "cells": [
  {
   "cell_type": "code",
   "execution_count": 9,
   "metadata": {},
   "outputs": [],
   "source": [
    "import sqlite3\n",
    "conn = sqlite3.connect('DB_Test1.db')\n",
    "cour = conn.cursor()"
   ]
  },
  {
   "cell_type": "code",
   "execution_count": 10,
   "metadata": {},
   "outputs": [
    {
     "name": "stdout",
     "output_type": "stream",
     "text": [
      "Table students is exists.\n"
     ]
    }
   ],
   "source": [
    "cour.execute('''SELECT count(name)\n",
    "                FROM sqlite_master\n",
    "                WHERE type='table' AND name = 'students' ''')\n",
    "if cour.fetchone()[0] == 1:\n",
    "    print('Table students is exists.')\n",
    "else:\n",
    "    sql = '''Create table students(\n",
    "             id INTEGER PRIMARY KEY AUTOINCREMENT,\n",
    "             studentID TEXT NOT NULL,\n",
    "             name TEXT NOT NULL,\n",
    "             gender TEXT NOT NULL,\n",
    "             department TEXT NOT NULL\n",
    "             )'''\n",
    "    cursor = conn.execute(sql)\n",
    "    print('creating table student done!')"
   ]
  },
  {
   "cell_type": "markdown",
   "metadata": {},
   "source": [
    "# 刪除SQLITE資料庫"
   ]
  },
  {
   "cell_type": "code",
   "execution_count": 11,
   "metadata": {},
   "outputs": [
    {
     "name": "stdout",
     "output_type": "stream",
     "text": [
      "Table students still alive\n"
     ]
    }
   ],
   "source": [
    "cour.execute('''SELECT count(name) FROM sqlite_master WHERE type = 'table' AND name = 'student' ''')\n",
    "if cour.fetchone()[0] == 1:\n",
    "    op = input('Delete table of students? (Y/N)')\n",
    "    if op.capitalize() == \"Y\":\n",
    "        cour.execute('''Drop table students''')\n",
    "cour.execute('''SELECT count(name) FROM sqlite_master WHERE type='table' AND name = 'students' ''')\n",
    "if cour.fetchone()[0] == 1:\n",
    "    print('Table students still alive')\n",
    "else:\n",
    "    print('The table students is gone!')"
   ]
  },
  {
   "cell_type": "markdown",
   "metadata": {},
   "source": [
    "# 新增資料"
   ]
  },
  {
   "cell_type": "code",
   "execution_count": null,
   "metadata": {},
   "outputs": [],
   "source": [
    "while True:\n",
    "    new_studentID = input('New student ID: ')\n",
    "    new_name = input('Student Name: ')\n",
    "    new_gender = input('Gender: ')\n",
    "    new_department = input('Department: ')\n",
    "    x = (new_studentID, new_name, new_gender, new_department)"
   ]
  },
  {
   "cell_type": "markdown",
   "metadata": {},
   "source": [
    "# 查詢資料"
   ]
  },
  {
   "cell_type": "code",
   "execution_count": null,
   "metadata": {},
   "outputs": [],
   "source": [
    "conn = "
   ]
  }
 ],
 "metadata": {
  "interpreter": {
   "hash": "6a13449f347f4fcfad9466f01174e485f20d8992999a0c2061558250e1d689d7"
  },
  "kernelspec": {
   "display_name": "Python 3.8.8 ('base')",
   "language": "python",
   "name": "python3"
  },
  "language_info": {
   "codemirror_mode": {
    "name": "ipython",
    "version": 3
   },
   "file_extension": ".py",
   "mimetype": "text/x-python",
   "name": "python",
   "nbconvert_exporter": "python",
   "pygments_lexer": "ipython3",
   "version": "3.8.8"
  },
  "orig_nbformat": 4
 },
 "nbformat": 4,
 "nbformat_minor": 2
}
